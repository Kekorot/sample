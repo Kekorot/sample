{
 "cells": [
  {
   "cell_type": "markdown",
   "metadata": {},
   "source": [
    "### REVERSE THE LIST"
   ]
  },
  {
   "cell_type": "code",
   "execution_count": 59,
   "metadata": {},
   "outputs": [
    {
     "name": "stdout",
     "output_type": "stream",
     "text": [
      "enter your name \n",
      "Nikhil\n",
      "enter your name \n",
      "Kasar\n",
      "['Kasar', 'Nikhil']\n"
     ]
    }
   ],
   "source": [
    "i = 1\n",
    "lst = []\n",
    "lst2 = []\n",
    "while(i<3):\n",
    "    st1 = input (\"enter your name \\n\")\n",
    "    lst.append(st1)\n",
    "    i+=1\n",
    "def Reverse(lst):\n",
    "    lst.reverse()\n",
    "    return lst\n",
    "print(Reverse(lst))"
   ]
  },
  {
   "cell_type": "markdown",
   "metadata": {},
   "source": [
    "### ACCEPT THE NO AND PRINT THE COLOUR"
   ]
  },
  {
   "cell_type": "code",
   "execution_count": 66,
   "metadata": {},
   "outputs": [
    {
     "name": "stdout",
     "output_type": "stream",
     "text": [
      "Enter A Colour Number \n",
      "3\n"
     ]
    },
    {
     "data": {
      "text/plain": [
       "'Yellow'"
      ]
     },
     "execution_count": 66,
     "metadata": {},
     "output_type": "execute_result"
    }
   ],
   "source": [
    "colour = ['Red', 'Orange', 'Yellow', 'Green', 'Blue', 'Indigo', 'Violet']\n",
    "n = int(input(\"Enter A Colour Number \\n\"))\n",
    "colour[n-1]"
   ]
  },
  {
   "cell_type": "markdown",
   "metadata": {},
   "source": [
    "### FIND NO IS EVEN OR ODD"
   ]
  },
  {
   "cell_type": "code",
   "execution_count": 68,
   "metadata": {},
   "outputs": [
    {
     "name": "stdout",
     "output_type": "stream",
     "text": [
      "enter a no\n",
      "3\n",
      "No is Odd\n",
      "\n"
     ]
    }
   ],
   "source": [
    "n = int(input(\"enter a no\\n\"))\n",
    "b = n%2\n",
    "if(b==0):\n",
    "    print(\"No is Even\\n \")\n",
    "else:\n",
    "    print(\"No is Odd\\n\")"
   ]
  },
  {
   "cell_type": "markdown",
   "metadata": {},
   "source": [
    "### FIND VOWEL OR NOT"
   ]
  },
  {
   "cell_type": "code",
   "execution_count": 72,
   "metadata": {},
   "outputs": [
    {
     "name": "stdout",
     "output_type": "stream",
     "text": [
      "enter a letter\n",
      "b\n",
      "Letter Is Not Vowel\n",
      "\n"
     ]
    }
   ],
   "source": [
    "n = input(\"enter a letter\\n\")\n",
    "if(n=='a' or n=='e' or n=='i' or n=='o' or n=='u'):\n",
    "    print(\"Letter Is Vowel\\n\")\n",
    "else:\n",
    "    print(\"Letter Is Not Vowel\\n\")"
   ]
  },
  {
   "cell_type": "markdown",
   "metadata": {},
   "source": [
    "###  ACCEPT THE SINGLE N NO AND PRINT SUM N+NN+NNN"
   ]
  },
  {
   "cell_type": "code",
   "execution_count": null,
   "metadata": {},
   "outputs": [],
   "source": [
    "n = int(input(\"enter a no\\n\"))\n",
    "b = n + (n*11) +(n*111)\n",
    "b"
   ]
  },
  {
   "cell_type": "markdown",
   "metadata": {},
   "source": [
    "### AREA OF THE CIRCLE"
   ]
  },
  {
   "cell_type": "code",
   "execution_count": null,
   "metadata": {},
   "outputs": [],
   "source": [
    "while True:\n",
    "    try:\n",
    "        p = area_circle()\n",
    "        break\n",
    "    except ValueError:\n",
    "        print(\"you must enter a value\\n\")\n",
    "\n",
    "def area_circle():\n",
    "         d = int(input(\"enter a radius\\n\"))\n",
    "         r = 3.14*d\n",
    "        return r"
   ]
  },
  {
   "cell_type": "markdown",
   "metadata": {},
   "source": [
    "### RETUN TRUE IF TWO VALUES ARE EQUAL"
   ]
  },
  {
   "cell_type": "code",
   "execution_count": null,
   "metadata": {},
   "outputs": [],
   "source": [
    "n = int(input(\"enter a no1\\n\"))\n",
    "m = int(input(\"enter a no2\\n\"))\n",
    "if (n==m):\n",
    "    print(\"TRUE\\n\")\n",
    "elif ((n+m)==5):\n",
    "    print(\"TRUE\\n\")\n",
    "elif ((n-m)==5):\n",
    "    print(\"TRUE\\n\")\n",
    "else:\n",
    "    print(\"FALSE\\n\")\n",
    "    "
   ]
  },
  {
   "cell_type": "markdown",
   "metadata": {},
   "source": [
    "### INTEREST CALCULATION"
   ]
  },
  {
   "cell_type": "code",
   "execution_count": null,
   "metadata": {},
   "outputs": [],
   "source": [
    "prin = int(input(\"Enter A Principle Amount\\n \"))\n",
    "rate = int(input(\"Enter A % Amount\\n \"))\n",
    "time = int(input(\"Enter A duration in month\\n \"))\n",
    "interest1 = ((rate*(prin/100))/12)\n",
    "interest = int((interest1*time))\n",
    "total = int((prin+interest))\n",
    "print(\"Interest \")\n",
    "print(interest)\n",
    "\n",
    "print(\"\\nTotal Amount \")\n",
    "total"
   ]
  }
 ],
 "metadata": {
  "kernelspec": {
   "display_name": "Python 3",
   "language": "python",
   "name": "python3"
  },
  "language_info": {
   "codemirror_mode": {
    "name": "ipython",
    "version": 3
   },
   "file_extension": ".py",
   "mimetype": "text/x-python",
   "name": "python",
   "nbconvert_exporter": "python",
   "pygments_lexer": "ipython3",
   "version": "3.7.6"
  }
 },
 "nbformat": 4,
 "nbformat_minor": 4
}
